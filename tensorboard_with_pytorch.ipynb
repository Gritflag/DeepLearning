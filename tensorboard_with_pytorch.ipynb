{
 "cells": [
  {
   "cell_type": "code",
   "execution_count": null,
   "metadata": {
    "collapsed": false,
    "jupyter": {
     "outputs_hidden": false
    }
   },
   "outputs": [],
   "source": [
    "# Google Colab에서 노트북을 실행하실 때에는 \n",
    "# https://tutorials.pytorch.kr/beginner/colab 를 참고하세요.\n",
    "%matplotlib inline"
   ]
  },
  {
   "cell_type": "markdown",
   "metadata": {},
   "source": [
    "PyTorch로 TensorBoard 사용하기\n",
    "==============================\n",
    "\n",
    "TensorBoard는 머신러닝 실험을 위한 시각화 툴킷(toolkit)입니다.\n",
    "TensorBoard를 사용하면 손실 및 정확도와 같은 측정 항목을 추적 및\n",
    "시각화하는 것, 모델 그래프를 시각화하는 것, 히스토그램을 보는 것,\n",
    "이미지를 출력하는 것 등이 가능합니다. 이 튜토리얼에서는 TensorBoard\n",
    "설치, PyTorch의 기본 사용법, TensorBoard UI에 기록한 데이터를 시각화\n",
    "하는 방법을 다룰 것입니다.\n",
    "\n",
    "설치하기\n",
    "--------\n",
    "\n",
    "모델과 측정 항목을 TensorBoard 로그 디렉터리에 기록하려면 PyTorch를\n",
    "설치해야 합니다. Anaconda를 통해 PyTorch 1.4 이상을 설치하는 방법은\n",
    "다음과 같습니다.(권장):\n",
    "\n",
    "``` {.sourceCode .sh}\n",
    "$ conda install pytorch torchvision -c pytorch\n",
    "```\n",
    "\n",
    "또는 pip를 사용할 수도 있습니다.\n",
    "\n",
    "``` {.sourceCode .sh}\n",
    "$ pip install torch torchvision\n",
    "```\n"
   ]
  },
  {
   "cell_type": "markdown",
   "metadata": {},
   "source": [
    "PyTorch로 TensorBoard 사용하기\n",
    "==============================\n",
    "\n",
    "이제 PyTorch로 TensorBoard를 사용해봅시다! 먼저 `SummaryWriter`\n",
    "인스턴스를 생성해야 합니다.\n"
   ]
  },
  {
   "cell_type": "code",
   "execution_count": 7,
   "metadata": {
    "collapsed": false,
    "jupyter": {
     "outputs_hidden": false
    }
   },
   "outputs": [],
   "source": [
    "import torch\n",
    "from torch.utils.tensorboard import SummaryWriter\n",
    "writer = SummaryWriter()"
   ]
  },
  {
   "cell_type": "markdown",
   "metadata": {},
   "source": [
    "Writer는 기본적으로 `./runs/` 디렉터리에 출력됩니다.\n"
   ]
  },
  {
   "cell_type": "markdown",
   "metadata": {},
   "source": [
    "스칼라(scalar) 기록하기\n",
    "=======================\n",
    "\n",
    "머신러닝에서는 손실 같은 주요 측정 항목과 학습 중 그것이 어떻게 변하는지\n",
    "이해하는 것이 중요합니다. 스칼라는 각 학습 단계(step)에서의 손실 값이나\n",
    "각 에폭 이후의 정확도를 저장하는 데 도움을 줍니다.\n",
    "\n",
    "스칼라 값을 기록하려면\n",
    "`add_scalar(tag, scalar_value, global_step=None, walltime=None)` 을\n",
    "사용해야 합니다. 예로, 간단한 선형 회귀 학습을 만들고 `add_scalar` 를\n",
    "사용해 손실 값을 기록해 봅시다.\n"
   ]
  },
  {
   "cell_type": "code",
   "execution_count": 8,
   "metadata": {
    "collapsed": false,
    "jupyter": {
     "outputs_hidden": false
    }
   },
   "outputs": [],
   "source": [
    "x = torch.arange(-5, 5, 0.1).view(-1, 1)\n",
    "y = -5 * x + 0.1 * torch.randn(x.size())\n",
    "\n",
    "model = torch.nn.Linear(1, 1)\n",
    "criterion = torch.nn.MSELoss()\n",
    "optimizer = torch.optim.SGD(model.parameters(), lr = 0.1)\n",
    "\n",
    "def train_model(iter):\n",
    "    for epoch in range(iter):\n",
    "        y1 = model(x)\n",
    "        loss = criterion(y1, y)\n",
    "        writer.add_scalar(\"Loss/train\", loss, epoch)\n",
    "        optimizer.zero_grad()\n",
    "        loss.backward()\n",
    "        optimizer.step()\n",
    "\n",
    "train_model(10)\n",
    "writer.flush()"
   ]
  },
  {
   "cell_type": "markdown",
   "metadata": {},
   "source": [
    "모든 보류중인(pending) 이벤트가 디스크에 기록되었는지 확인하려면\n",
    "`flush()` 메소드를 호출합니다.\n",
    "\n",
    "기록할 수 있는 더 많은 TensorBoard 시각화 방법을 찾으려면\n",
    "[torch.utils.tensorboard\n",
    "tutorials](https://pytorch.org/docs/stable/tensorboard.html) 을\n",
    "참조하세요.\n",
    "\n",
    "Summary writer가 더 이상 필요하지 않으면 `close()` 메소드를 호출합니다.\n"
   ]
  },
  {
   "cell_type": "code",
   "execution_count": 9,
   "metadata": {
    "collapsed": false,
    "jupyter": {
     "outputs_hidden": false
    }
   },
   "outputs": [],
   "source": [
    "writer.close()"
   ]
  },
  {
   "cell_type": "markdown",
   "metadata": {},
   "source": [
    "TensorBoard 실행하기\n",
    "====================\n",
    "\n",
    "기록한 데이터를 시각화하기 위해서 다음과 같이 TensorBoard를 설치합니다.\n",
    "\n",
    "``` {.sourceCode .sh}\n",
    "pip install tensorboard\n",
    "```\n",
    "\n",
    "이제, 위에서 사용한 루트 로그 디렉터리를 지정하여 TensorBoard를\n",
    "시작합니다. `logdir` 인자는 TensorBoard가 출력할 수 있는 이벤트 파일들을\n",
    "찾을 디렉터리를 가리킵니다. TensorBoard는 `.*tfevents.*` 파일을 찾기\n",
    "위해 `logdir` 디렉터리 하위 구조를 재귀적으로 탐색합니다.\n",
    "\n",
    "``` {.sourceCode .sh}\n",
    "tensorboard --logdir=runs\n",
    "```\n",
    "\n",
    "제공하는 URL로 이동하거나 <http://localhost:6006/> 로 이동합니다.\n",
    "\n",
    "![image](https://tutorials.pytorch.kr/_static/img/thumbnails/tensorboard_scalars.png)\n",
    "\n",
    "이 대시보드는 매 에폭마다 손실과 정확도가 어떻게 변하는지 보여줍니다.\n",
    "이를 사용하여 학습 속도, 학습률 및 기타 스칼라 값들을 추적할 수도\n",
    "있습니다. 모델을 향상시키려면 여러 다른 학습을 돌리면서 이러한 측정\n",
    "기준들을 비교하는 것이 좋습니다.\n"
   ]
  },
  {
   "cell_type": "markdown",
   "metadata": {},
   "source": [
    "더 알아보기\n",
    "===========\n",
    "\n",
    "-   [torch.utils.tensorboard](https://pytorch.org/docs/stable/tensorboard.html)\n",
    "    docs\n",
    "-   `/intermediate/tensorboard_tutorial`{.interpreted-text role=\"doc\"}\n",
    "    튜토리얼\n"
   ]
  }
 ],
 "metadata": {
  "kernelspec": {
   "display_name": "Python 39",
   "language": "python",
   "name": "python39"
  },
  "language_info": {
   "codemirror_mode": {
    "name": "ipython",
    "version": 3
   },
   "file_extension": ".py",
   "mimetype": "text/x-python",
   "name": "python",
   "nbconvert_exporter": "python",
   "pygments_lexer": "ipython3",
   "version": "3.9.19"
  }
 },
 "nbformat": 4,
 "nbformat_minor": 4
}
